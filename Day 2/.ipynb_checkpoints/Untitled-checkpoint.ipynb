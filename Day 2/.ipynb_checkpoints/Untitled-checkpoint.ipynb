{
 "cells": [
  {
   "cell_type": "code",
   "execution_count": 67,
   "metadata": {},
   "outputs": [
    {
     "name": "stdout",
     "output_type": "stream",
     "text": [
      "558\n"
     ]
    }
   ],
   "source": [
    "#For example, suppose you have the following list:\n",
    "\n",
    "#1-3 a: abcde\n",
    "#1-3 b: cdefg\n",
    "#2-9 c: ccccccccc\n",
    "#Each line gives the password policy and then the password. The password policy indicates the lowest and highest number of times a given letter must appear for the password to be valid. For example, 1-3 a means that the password must contain a at least 1 time and at most 3 times.\n",
    "\n",
    "\n",
    "file1 = open('input.txt', 'r') \n",
    "Lines = file1.readlines() \n",
    "  \n",
    "count = 0\n",
    "# Strips the newline character \n",
    "for line in Lines: \n",
    "    startPos = line[0:line.index(\"-\")]\n",
    "    endPos = line[line.index(\"-\")+1:line.index(\" \")]\n",
    "    letter = line[line.index(\" \")+1:line.index(\":\")]\n",
    "    string = line[line.index(\":\")+2:len(line)-1] + \"___\"\n",
    "    \n",
    "    list_ = [pos for pos, char in enumerate(string) if char == letter]\n",
    "    if (int(endPos)-1 in list_ or int(startPos)-1 in list_) and not (int(endPos)-1 in list_ and int(startPos)-1 in list_):\n",
    "        count += 1;\n",
    "\n",
    "    #numChar = 0\n",
    "    #for char in string:\n",
    "        #if char == letter:\n",
    "            #numChar += 1   \n",
    "    #if string.find(letter) == int(startPos)\n",
    "    #if string[int(startPos)-1] == letter or string[int(endPos)-1] == letter:\n",
    "        #count += 1\n",
    "\n",
    "print(count)   \n",
    "file1.close()\n",
    "\n",
    "\n"
   ]
  },
  {
   "cell_type": "code",
   "execution_count": null,
   "metadata": {},
   "outputs": [],
   "source": []
  },
  {
   "cell_type": "code",
   "execution_count": null,
   "metadata": {},
   "outputs": [],
   "source": []
  }
 ],
 "metadata": {
  "kernelspec": {
   "display_name": "Python 3",
   "language": "python",
   "name": "python3"
  },
  "language_info": {
   "codemirror_mode": {
    "name": "ipython",
    "version": 3
   },
   "file_extension": ".py",
   "mimetype": "text/x-python",
   "name": "python",
   "nbconvert_exporter": "python",
   "pygments_lexer": "ipython3",
   "version": "3.8.5"
  }
 },
 "nbformat": 4,
 "nbformat_minor": 4
}
