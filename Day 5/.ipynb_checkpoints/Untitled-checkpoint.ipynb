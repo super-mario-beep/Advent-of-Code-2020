{
 "cells": [
  {
   "cell_type": "code",
   "execution_count": 41,
   "metadata": {},
   "outputs": [
    {
     "name": "stdout",
     "output_type": "stream",
     "text": [
      "913\n",
      "717\n"
     ]
    }
   ],
   "source": [
    "seats = [line.strip() for line in open(\"input.txt\", \"r\")] \n",
    "def calcRow(info):\n",
    "    max_ = 127\n",
    "    min_ = 0\n",
    "    for i in range(7):\n",
    "        if info[i] == \"B\":\n",
    "            min_ = int((max_+min_)/2)\n",
    "        else:\n",
    "            max_ = int((max_+min_)/2)\n",
    "    return max_\n",
    "def calcSeat(info):\n",
    "    max_ = 7\n",
    "    min_ = 0\n",
    "    for i in range(7,10,1):\n",
    "        if info[i] == \"R\":\n",
    "            min_ = int((max_+min_)/2)\n",
    "        else:\n",
    "            max_ = int((max_+min_)/2)\n",
    "    return max_\n",
    "    \n",
    "high = 0\n",
    "l = []\n",
    "for line in seats:    \n",
    "    row = calcRow(line)\n",
    "    seat = calcSeat(line)\n",
    "    total = row * 8 + seat\n",
    "    l.append(total)\n",
    "    if total >= high:\n",
    "        high = total\n",
    "print(high)\n",
    "\n",
    "l.sort()\n",
    "for i in range(len(l)):\n",
    "    if l[i] != i+32:\n",
    "        print(i+32)\n",
    "        break\n",
    "    \n"
   ]
  },
  {
   "cell_type": "code",
   "execution_count": null,
   "metadata": {},
   "outputs": [],
   "source": []
  }
 ],
 "metadata": {
  "kernelspec": {
   "display_name": "Python 3",
   "language": "python",
   "name": "python3"
  },
  "language_info": {
   "codemirror_mode": {
    "name": "ipython",
    "version": 3
   },
   "file_extension": ".py",
   "mimetype": "text/x-python",
   "name": "python",
   "nbconvert_exporter": "python",
   "pygments_lexer": "ipython3",
   "version": "3.8.5"
  }
 },
 "nbformat": 4,
 "nbformat_minor": 4
}
