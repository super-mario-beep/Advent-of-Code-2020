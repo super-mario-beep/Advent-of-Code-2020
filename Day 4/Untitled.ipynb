{
 "cells": [
  {
   "cell_type": "code",
   "execution_count": null,
   "metadata": {},
   "outputs": [],
   "source": []
  },
  {
   "cell_type": "code",
   "execution_count": 144,
   "metadata": {},
   "outputs": [
    {
     "name": "stdout",
     "output_type": "stream",
     "text": [
      "147\n"
     ]
    }
   ],
   "source": [
    "import re\n",
    "def checkIsValid(items):\n",
    "    keys = [\"byr\",\"iyr\",\"eyr\",\"hgt\",\"hcl\",\"ecl\",\"pid\"]\n",
    "    for key in keys:\n",
    "        if key not in items:\n",
    "            return False\n",
    "    return True\n",
    "\n",
    "def stringToItem(string,item_):\n",
    "    item = item_\n",
    "    if \"byr\" in string:\n",
    "        i = string.find(\"byr\")\n",
    "        item[\"byr\"] = string[i+4:i+8]\n",
    "        if not (2002 >= int(item[\"byr\"]) >= 1920):\n",
    "            del item[\"byr\"]\n",
    "    if \"iyr\" in string:\n",
    "        i = string.find(\"iyr\")\n",
    "        item[\"iyr\"] = string[i+4:i+8]\n",
    "        if not (2020 >= int(item[\"iyr\"]) >= 2010):\n",
    "            del item[\"iyr\"]\n",
    "    if \"eyr\" in string:\n",
    "        i = string.find(\"eyr\")\n",
    "        item[\"eyr\"] = string[i+4:i+8]    \n",
    "        if not (2030 >= int(item[\"eyr\"]) >= 2020):\n",
    "            del item[\"eyr\"]\n",
    "    if \"hgt\" in string:\n",
    "        i = string.find(\"hgt\")\n",
    "        item[\"hgt\"] = string[i+4:i+9]\n",
    "        if \"cm\" in item[\"hgt\"]:\n",
    "            i_ = item[\"hgt\"].find(\"cm\")\n",
    "            s_ = item[\"hgt\"]\n",
    "            hgt = int(s_[0:i_])\n",
    "            if not(193 >= hgt >= 150):\n",
    "                del item[\"hgt\"] \n",
    "        elif \"in\" in item[\"hgt\"]:\n",
    "            i_ = item[\"hgt\"].find(\"in\")\n",
    "            s_ = item[\"hgt\"]\n",
    "            hgt = int(s_[0:i_])\n",
    "            if not(76 >= hgt >= 59):\n",
    "                del item[\"hgt\"]\n",
    "        else:\n",
    "            del item[\"hgt\"]\n",
    "    if \"hcl:#\" in string:\n",
    "        i = string.find(\"hcl\")\n",
    "        if re.match(\"^[A-Fa-f0-9]*$\", string[i+5:i+11]):   \n",
    "            item[\"hcl\"] = string[i+5:i+11]            \n",
    "    if \"ecl\" in string:\n",
    "        i = string.find(\"ecl\")\n",
    "        item[\"ecl\"] = string[i+4:i+7]   \n",
    "        must = [\"amb\", \"blu\", \"brn\", \"gry\", \"grn\", \"hzl\", \"oth\"]\n",
    "        if item[\"ecl\"] not in must:\n",
    "            del item[\"ecl\"] \n",
    "    if \"pid\" in string:\n",
    "        i = string.find(\"pid\")\n",
    "        item[\"pid\"] = string[i+4:i+13]  \n",
    "        if (not (re.match(\"^[0-9]*$\", item[\"pid\"]))) and len(item[\"pid\"]) == 9:\n",
    "            del item[\"pid\"]          \n",
    "    return item_\n",
    "        \n",
    "\n",
    "items = [line.strip() for line in open(\"input.txt\", \"r\")]\n",
    "count = 0\n",
    "cur_item = {}\n",
    "good = []\n",
    "for item in items:\n",
    "    if len(item) == 0:\n",
    "        cur_item = {}\n",
    "    else:\n",
    "        cur_item = stringToItem(item,cur_item)\n",
    "        if checkIsValid(cur_item):\n",
    "            good.append(cur_item)\n",
    "            count += 1\n",
    "            cur_item = {}\n",
    "    \n",
    "tmp = []\n",
    "for item in good:\n",
    "    tmp.append({'byr': item[\"byr\"], 'eyr': item[\"eyr\"], 'hgt': item[\"hgt\"], 'hcl': item[\"hcl\"], 'iyr': item[\"iyr\"], 'ecl': item[\"ecl\"], 'pid': item[\"pid\"]})\n",
    "\n",
    "    \n",
    "print(count)"
   ]
  },
  {
   "cell_type": "code",
   "execution_count": null,
   "metadata": {},
   "outputs": [],
   "source": []
  },
  {
   "cell_type": "code",
   "execution_count": null,
   "metadata": {},
   "outputs": [],
   "source": []
  },
  {
   "cell_type": "code",
   "execution_count": null,
   "metadata": {},
   "outputs": [],
   "source": []
  }
 ],
 "metadata": {
  "kernelspec": {
   "display_name": "Python 3",
   "language": "python",
   "name": "python3"
  },
  "language_info": {
   "codemirror_mode": {
    "name": "ipython",
    "version": 3
   },
   "file_extension": ".py",
   "mimetype": "text/x-python",
   "name": "python",
   "nbconvert_exporter": "python",
   "pygments_lexer": "ipython3",
   "version": "3.8.5"
  }
 },
 "nbformat": 4,
 "nbformat_minor": 4
}
