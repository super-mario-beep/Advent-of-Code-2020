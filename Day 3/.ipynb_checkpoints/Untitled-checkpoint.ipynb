{
 "cells": [
  {
   "cell_type": "code",
   "execution_count": 61,
   "metadata": {},
   "outputs": [
    {
     "name": "stdout",
     "output_type": "stream",
     "text": [
      "2\n",
      "32\n",
      "1478615040\n"
     ]
    }
   ],
   "source": [
    "def addRepeatableMap(map_):\n",
    "    tmp = []\n",
    "    for line in map_:\n",
    "        ll = line + line\n",
    "        tmp.append(ll)\n",
    "    return tmp\n",
    "\n",
    "def calculateTrees(x_,y_):\n",
    "    map_ = [line.strip() for line in open(\"input.txt\", \"r\")] \n",
    "    x = y = count = 0\n",
    "    for index in range(0,len(map_),2):\n",
    "        line = map_[index]\n",
    "        if len(line) <= x + x_:\n",
    "            map_ = addRepeatableMap(map_)\n",
    "        if(line[x] == \".\"):\n",
    "            tmp = list(line)\n",
    "            tmp[x] = \"O\"\n",
    "            map_[index] = \"\".join(tmp)     \n",
    "        elif line[x] == \"#\":\n",
    "            count += 1\n",
    "            tmp = list(line)\n",
    "            tmp[x] = \"X\"\n",
    "            map_[index] = \"\".join(tmp)  \n",
    "        \n",
    "        x += x_\n",
    "    if y_ == 2:\n",
    "        pass#print(map_)\n",
    "    print(y_)\n",
    "    return count\n",
    "\n",
    "#x1 = calculateTrees(1,1)\n",
    "#x2 = calculateTrees(3,1)\n",
    "#x3 = calculateTrees(5,1)\n",
    "#x4 = calculateTrees(7,1)\n",
    "x5 = calculateTrees(1,2)\n",
    "    \n",
    "print(x5)\n",
    "print(60*191*64*63*32)\n",
    "#print(map_)\n",
    "#map_ = addRepeatableMap(map_)\n",
    "#print(map_)\n",
    "#60\n",
    "#191\n",
    "#64\n",
    "#63\n",
    "#32\n",
    "    \n"
   ]
  },
  {
   "cell_type": "code",
   "execution_count": null,
   "metadata": {},
   "outputs": [],
   "source": []
  },
  {
   "cell_type": "code",
   "execution_count": null,
   "metadata": {},
   "outputs": [],
   "source": []
  }
 ],
 "metadata": {
  "kernelspec": {
   "display_name": "Python 3",
   "language": "python",
   "name": "python3"
  },
  "language_info": {
   "codemirror_mode": {
    "name": "ipython",
    "version": 3
   },
   "file_extension": ".py",
   "mimetype": "text/x-python",
   "name": "python",
   "nbconvert_exporter": "python",
   "pygments_lexer": "ipython3",
   "version": "3.8.5"
  }
 },
 "nbformat": 4,
 "nbformat_minor": 4
}
