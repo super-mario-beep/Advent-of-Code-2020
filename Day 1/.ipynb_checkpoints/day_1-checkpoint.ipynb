{
 "cells": [
  {
   "cell_type": "code",
   "execution_count": 8,
   "metadata": {},
   "outputs": [
    {
     "name": "stdout",
     "output_type": "stream",
     "text": [
      "42140160\n",
      "42140160\n",
      "42140160\n",
      "42140160\n",
      "42140160\n",
      "42140160\n"
     ]
    }
   ],
   "source": [
    "#https://adventofcode.com/2020/day/1\n",
    "file1 = open('zad1.txt', 'r') \n",
    "Lines = file1.readlines() \n",
    "for line in Lines: \n",
    "    for line_ in Lines:\n",
    "        for l in Lines:\n",
    "            if int(line_) + int(line) + int(l) == 2020:\n",
    "                print(int(line_) * int(line) * int(l))\n",
    "                break"
   ]
  },
  {
   "cell_type": "code",
   "execution_count": null,
   "metadata": {},
   "outputs": [],
   "source": []
  }
 ],
 "metadata": {
  "kernelspec": {
   "display_name": "Python 3",
   "language": "python",
   "name": "python3"
  },
  "language_info": {
   "codemirror_mode": {
    "name": "ipython",
    "version": 3
   },
   "file_extension": ".py",
   "mimetype": "text/x-python",
   "name": "python",
   "nbconvert_exporter": "python",
   "pygments_lexer": "ipython3",
   "version": "3.8.5"
  }
 },
 "nbformat": 4,
 "nbformat_minor": 4
}
